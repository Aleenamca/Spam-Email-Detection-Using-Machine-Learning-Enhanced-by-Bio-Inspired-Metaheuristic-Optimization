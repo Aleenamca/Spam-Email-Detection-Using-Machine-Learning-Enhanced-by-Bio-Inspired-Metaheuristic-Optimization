{
 "cells": [
  {
   "cell_type": "markdown",
   "id": "cf1ee649",
   "metadata": {
    "papermill": {
     "duration": 0.02581,
     "end_time": "2021-09-07T23:24:32.591006",
     "exception": false,
     "start_time": "2021-09-07T23:24:32.565196",
     "status": "completed"
    },
    "tags": []
   },
   "source": [
    "<a id = \"1\" ></a>\n",
    "# Load Required Libraries"
   ]
  },
  {
   "cell_type": "code",
   "execution_count": 150,
   "id": "adb82f32",
   "metadata": {
    "papermill": {
     "duration": 2.668108,
     "end_time": "2021-09-07T23:24:35.285599",
     "exception": false,
     "start_time": "2021-09-07T23:24:32.617491",
     "status": "completed"
    },
    "tags": []
   },
   "outputs": [],
   "source": [
    "import numpy as np # linear algebra\n",
    "import pandas as pd # data processing, CSV file I/O (e.g. pd.read_csv)\n",
    "import matplotlib.pyplot as plt\n",
    "import seaborn as sns\n",
    "\n",
    "from bs4 import BeautifulSoup\n",
    "import re\n",
    "import string\n",
    "import nltk\n",
    "from nltk.corpus import stopwords\n",
    "from nltk.stem import WordNetLemmatizer \n",
    "from wordcloud import WordCloud, STOPWORDS\n",
    "from nltk.tokenize import word_tokenize\n",
    "\n",
    "from sklearn.model_selection import train_test_split\n",
    "from sklearn.pipeline import Pipeline\n",
    "from sklearn.linear_model import LogisticRegression\n",
    "from sklearn.neighbors import KNeighborsClassifier\n",
    "from sklearn.tree import DecisionTreeClassifier\n",
    "from sklearn.ensemble import RandomForestClassifier,GradientBoostingClassifier\n",
    "from sklearn.metrics import accuracy_score, confusion_matrix, classification_report\n",
    "from sklearn.feature_extraction.text import TfidfVectorizer"
   ]
  },
  {
   "cell_type": "markdown",
   "id": "a6277694",
   "metadata": {
    "papermill": {
     "duration": 0.027319,
     "end_time": "2021-09-07T23:24:35.342098",
     "exception": false,
     "start_time": "2021-09-07T23:24:35.314779",
     "status": "completed"
    },
    "tags": []
   },
   "source": [
    "<a id = \"2\" ></a>\n",
    "# Import the Dataset\n",
    "\n",
    "T"
   ]
  },
  {
   "cell_type": "code",
   "execution_count": 151,
   "id": "ac9ba601",
   "metadata": {
    "papermill": {
     "duration": 3.62873,
     "end_time": "2021-09-07T23:24:38.997369",
     "exception": false,
     "start_time": "2021-09-07T23:24:35.368639",
     "status": "completed"
    },
    "tags": []
   },
   "outputs": [],
   "source": [
    "#import dataset\n",
    "df = pd.read_csv(\"Email spam.csv\")\n",
    "#true = pd.read_csv(\"data/True.csv\")"
   ]
  },
  {
   "cell_type": "code",
   "execution_count": 152,
   "id": "55963300",
   "metadata": {
    "papermill": {
     "duration": 0.06498,
     "end_time": "2021-09-07T23:24:39.089302",
     "exception": false,
     "start_time": "2021-09-07T23:24:39.024322",
     "status": "completed"
    },
    "tags": []
   },
   "outputs": [
    {
     "data": {
      "text/html": [
       "<div>\n",
       "<style scoped>\n",
       "    .dataframe tbody tr th:only-of-type {\n",
       "        vertical-align: middle;\n",
       "    }\n",
       "\n",
       "    .dataframe tbody tr th {\n",
       "        vertical-align: top;\n",
       "    }\n",
       "\n",
       "    .dataframe thead th {\n",
       "        text-align: right;\n",
       "    }\n",
       "</style>\n",
       "<table border=\"1\" class=\"dataframe\">\n",
       "  <thead>\n",
       "    <tr style=\"text-align: right;\">\n",
       "      <th></th>\n",
       "      <th>Id</th>\n",
       "      <th>spam</th>\n",
       "      <th>text</th>\n",
       "    </tr>\n",
       "  </thead>\n",
       "  <tbody>\n",
       "    <tr>\n",
       "      <th>0</th>\n",
       "      <td>1.0</td>\n",
       "      <td>1.0</td>\n",
       "      <td>Subject: naturally irresistible your corporate...</td>\n",
       "    </tr>\n",
       "    <tr>\n",
       "      <th>1</th>\n",
       "      <td>2.0</td>\n",
       "      <td>1.0</td>\n",
       "      <td>Subject: the stock trading gunslinger  fanny i...</td>\n",
       "    </tr>\n",
       "    <tr>\n",
       "      <th>2</th>\n",
       "      <td>3.0</td>\n",
       "      <td>1.0</td>\n",
       "      <td>Subject: unbelievable new homes made easy  im ...</td>\n",
       "    </tr>\n",
       "    <tr>\n",
       "      <th>3</th>\n",
       "      <td>4.0</td>\n",
       "      <td>1.0</td>\n",
       "      <td>Subject: 4 color printing special  request add...</td>\n",
       "    </tr>\n",
       "    <tr>\n",
       "      <th>4</th>\n",
       "      <td>5.0</td>\n",
       "      <td>1.0</td>\n",
       "      <td>Subject: do not have money , get software cds ...</td>\n",
       "    </tr>\n",
       "    <tr>\n",
       "      <th>5</th>\n",
       "      <td>6.0</td>\n",
       "      <td>1.0</td>\n",
       "      <td>Subject: great nnews  hello , welcome to medzo...</td>\n",
       "    </tr>\n",
       "    <tr>\n",
       "      <th>6</th>\n",
       "      <td>7.0</td>\n",
       "      <td>1.0</td>\n",
       "      <td>Subject: here ' s a hot play in motion  homela...</td>\n",
       "    </tr>\n",
       "    <tr>\n",
       "      <th>7</th>\n",
       "      <td>8.0</td>\n",
       "      <td>1.0</td>\n",
       "      <td>Subject: save your money buy getting this thin...</td>\n",
       "    </tr>\n",
       "    <tr>\n",
       "      <th>8</th>\n",
       "      <td>9.0</td>\n",
       "      <td>1.0</td>\n",
       "      <td>Subject: undeliverable : home based business f...</td>\n",
       "    </tr>\n",
       "    <tr>\n",
       "      <th>9</th>\n",
       "      <td>10.0</td>\n",
       "      <td>1.0</td>\n",
       "      <td>Subject: save your money buy getting this thin...</td>\n",
       "    </tr>\n",
       "  </tbody>\n",
       "</table>\n",
       "</div>"
      ],
      "text/plain": [
       "     Id  spam                                               text\n",
       "0   1.0   1.0  Subject: naturally irresistible your corporate...\n",
       "1   2.0   1.0  Subject: the stock trading gunslinger  fanny i...\n",
       "2   3.0   1.0  Subject: unbelievable new homes made easy  im ...\n",
       "3   4.0   1.0  Subject: 4 color printing special  request add...\n",
       "4   5.0   1.0  Subject: do not have money , get software cds ...\n",
       "5   6.0   1.0  Subject: great nnews  hello , welcome to medzo...\n",
       "6   7.0   1.0  Subject: here ' s a hot play in motion  homela...\n",
       "7   8.0   1.0  Subject: save your money buy getting this thin...\n",
       "8   9.0   1.0  Subject: undeliverable : home based business f...\n",
       "9  10.0   1.0  Subject: save your money buy getting this thin..."
      ]
     },
     "execution_count": 152,
     "metadata": {},
     "output_type": "execute_result"
    }
   ],
   "source": [
    "#data exploration\n",
    "df.head(10)"
   ]
  },
  {
   "cell_type": "code",
   "execution_count": 153,
   "id": "cfa0afc2",
   "metadata": {},
   "outputs": [
    {
     "name": "stdout",
     "output_type": "stream",
     "text": [
      "Index(['Id', 'spam', 'text'], dtype='object')\n"
     ]
    }
   ],
   "source": [
    "print(df.columns)\n"
   ]
  },
  {
   "cell_type": "code",
   "execution_count": 154,
   "id": "0323548c-8662-4f90-8972-541ce7391df6",
   "metadata": {},
   "outputs": [],
   "source": [
    "df.rename(columns={\"spam\": \"Category\"}, inplace=True)\n"
   ]
  },
  {
   "cell_type": "code",
   "execution_count": 155,
   "id": "f8aea21d",
   "metadata": {
    "papermill": {
     "duration": 0.044115,
     "end_time": "2021-09-07T23:24:39.160784",
     "exception": false,
     "start_time": "2021-09-07T23:24:39.116669",
     "status": "completed"
    },
    "tags": []
   },
   "outputs": [],
   "source": [
    "#true.head()"
   ]
  },
  {
   "cell_type": "code",
   "execution_count": 156,
   "id": "91a5cd49",
   "metadata": {},
   "outputs": [
    {
     "data": {
      "text/html": [
       "<div>\n",
       "<style scoped>\n",
       "    .dataframe tbody tr th:only-of-type {\n",
       "        vertical-align: middle;\n",
       "    }\n",
       "\n",
       "    .dataframe tbody tr th {\n",
       "        vertical-align: top;\n",
       "    }\n",
       "\n",
       "    .dataframe thead th {\n",
       "        text-align: right;\n",
       "    }\n",
       "</style>\n",
       "<table border=\"1\" class=\"dataframe\">\n",
       "  <thead>\n",
       "    <tr style=\"text-align: right;\">\n",
       "      <th></th>\n",
       "      <th>Id</th>\n",
       "      <th>Category</th>\n",
       "      <th>text</th>\n",
       "    </tr>\n",
       "  </thead>\n",
       "  <tbody>\n",
       "    <tr>\n",
       "      <th>0</th>\n",
       "      <td>1.0</td>\n",
       "      <td>1</td>\n",
       "      <td>Subject: naturally irresistible your corporate...</td>\n",
       "    </tr>\n",
       "    <tr>\n",
       "      <th>1</th>\n",
       "      <td>2.0</td>\n",
       "      <td>1</td>\n",
       "      <td>Subject: the stock trading gunslinger  fanny i...</td>\n",
       "    </tr>\n",
       "    <tr>\n",
       "      <th>2</th>\n",
       "      <td>3.0</td>\n",
       "      <td>1</td>\n",
       "      <td>Subject: unbelievable new homes made easy  im ...</td>\n",
       "    </tr>\n",
       "    <tr>\n",
       "      <th>3</th>\n",
       "      <td>4.0</td>\n",
       "      <td>1</td>\n",
       "      <td>Subject: 4 color printing special  request add...</td>\n",
       "    </tr>\n",
       "    <tr>\n",
       "      <th>4</th>\n",
       "      <td>5.0</td>\n",
       "      <td>1</td>\n",
       "      <td>Subject: do not have money , get software cds ...</td>\n",
       "    </tr>\n",
       "    <tr>\n",
       "      <th>5</th>\n",
       "      <td>6.0</td>\n",
       "      <td>1</td>\n",
       "      <td>Subject: great nnews  hello , welcome to medzo...</td>\n",
       "    </tr>\n",
       "    <tr>\n",
       "      <th>6</th>\n",
       "      <td>7.0</td>\n",
       "      <td>1</td>\n",
       "      <td>Subject: here ' s a hot play in motion  homela...</td>\n",
       "    </tr>\n",  
       "    <tr>\n",
       "      <th>7</th>\n",
       "      <td>8.0</td>\n",
       "      <td>1</td>\n",
       "      <td>Subject: save your money buy getting this thin...</td>\n",
       "    </tr>\n",
       "    <tr>\n",
       "      <th>8</th>\n",
       "      <td>9.0</td>\n",
       "      <td>1</td>\n",
       "      <td>Subject: undeliverable : home based business f...</td>\n",
       "    </tr>\n",
       "    <tr>\n",
       "      <th>9</th>\n",
       "      <td>10.0</td>\n",
       "      <td>1</td>\n",
       "      <td>Subject: save your money buy getting this thin...</td>\n",
       "    </tr>\n",
       "  </tbody>\n",
       "</table>\n",
       "</div>"
      ],
      "text/plain": [
       "     Id  Category                                               text\n",
       "0   1.0         1  Subject: naturally irresistible your corporate...\n",
       "1   2.0         1  Subject: the stock trading gunslinger  fanny i...\n",
       "2   3.0         1  Subject: unbelievable new homes made easy  im ...\n",
       "3   4.0         1  Subject: 4 color printing special  request add...\n",
       "4   5.0         1  Subject: do not have money , get software cds ...\n",
       "5   6.0         1  Subject: great nnews  hello , welcome to medzo...\n",
       "6   7.0         1  Subject: here ' s a hot play in motion  homela...\n",
       "7   8.0         1  Subject: save your money buy getting this thin...\n",
       "8   9.0         1  Subject: undeliverable : home based business f...\n",
       "9  10.0         1  Subject: save your money buy getting this thin..."
      ]
     },
     "execution_count": 156,
     "metadata": {},
     "output_type": "execute_result"
    }
   ],
   "source": [
    "from sklearn.preprocessing import LabelEncoder\n",
    "le_3 = LabelEncoder()\n",
    "label_3=le_3.fit_transform(df[\"Category\"])\n",
    "df[\"Category\"]=label_3\n",
    "df.head(10)\n"
   ]
  },
  {
   "cell_type": "markdown",
   "id": "0f4f5113",
   "metadata": {
    "papermill": {
     "duration": 0.027317,
     "end_time": "2021-09-07T23:24:39.215253",
     "exception": false,
     "start_time": "2021-09-07T23:24:39.187936",
     "status": "completed"
    },
    "tags": []
   },
   "source": [
    "The columns in the datasets are:\n",
    "* **title** - The title of the article\n",
    "* **text** - The text of the article\n",
    "* **subject** - The subject of the article\n",
    "* **date** - The date at which the article was posted\n",
    "\n",
    "The dataset contains no target variable. We need to create manually and add it to the datasets. We will create a binary variable called label. The label variable will have '0' for real news and '1' for fake news. "
   ]
  },
  {
   "cell_type": "code",
   "execution_count": 157,
   "id": "4ec187b5-0849-4334-ab03-3606f8ef9ef5",
   "metadata": {},
   "outputs": [],
   "source": [
    "df.rename(columns={\"text\": \"Message\"}, inplace=True)\n"
   ]
  },
  {
   "cell_type": "code",
   "execution_count": 158,
   "id": "d0010160",
   "metadata": {},
   "outputs": [],
   "source": [
    "X_data=df[[\"Message\"]]\n",
    "Y_data=df[\"Category\"]\n"
   ]
  },
  {
   "cell_type": "code",
   "execution_count": 159,
   "id": "e55ad967",
   "metadata": {
    "papermill": {
     "duration": 0.040425,
     "end_time": "2021-09-07T23:24:39.282518",
     "exception": false,
     "start_time": "2021-09-07T23:24:39.242093",
     "status": "completed"
    },
    "tags": []
   },
   "outputs": [],
   "source": [
    "#adding label columns to both fake news and true news dataset\n",
    "#fake[\"label\"] = 1\n",
    "#true[\"label\"] = 0"
   ]
  },
  {
   "cell_type": "markdown",
   "id": "bdb10add",
   "metadata": {
    "papermill": {
     "duration": 0.027047,
     "end_time": "2021-09-07T23:24:39.337408",
     "exception": false,
     "start_time": "2021-09-07T23:24:39.310361",
     "status": "completed"
    },
    "tags": []
   },
   "source": [
    "We will combine the seperate datasets into one for our further analysis"
   ]
  },
  {
   "cell_type": "code",
   "execution_count": 160,
   "id": "01f73ae0",
   "metadata": {
    "papermill": {
     "duration": 0.058555,
     "end_time": "2021-09-07T23:24:39.423493",
     "exception": false,
     "start_time": "2021-09-07T23:24:39.364938",
     "status": "completed"
    },
    "tags": []
   },
   "outputs": [],
   "source": [
    "#combining both the datasets into one\n",
    "#df = pd.concat([fake, true], ignore_index = True)\n",
    "#df"
   ]
  },
  {
   "cell_type": "code",
   "execution_count": 161,
   "id": "297ffdef-6167-4686-8492-c79d97977fbd",
   "metadata": {},
   "outputs": [
    {
     "name": "stdout",
     "output_type": "stream",
     "text": [
      "Id          1\n",
      "Category    0\n",
      "Message     1\n",
      "dtype: int64\n"
     ]
    }
   ],
   "source": [
    "print(df.isnull().sum())\n"
   ]
  },
  {
   "cell_type": "code",
   "execution_count": 162,
   "id": "15fdf050-24fc-45c7-9c22-9334e8eb9736",
   "metadata": {},
   "outputs": [],
   "source": [
    "df = df.dropna()\n"
   ]
  },
  {
   "cell_type": "code",
   "execution_count": 163,
   "id": "b0f8c81c-3fda-4d24-854a-6ecf0bcb4a6e",
   "metadata": {},
   "outputs": [],
   "source": [
    "df['Message'] = df['Message'].fillna('')\n"
   ]
  },
  {
   "cell_type": "code",
   "execution_count": 164,
   "id": "2fc726e2-fb8b-41fb-a4fd-ab4f3ff61e6d",
   "metadata": {},
   "outputs": [],
   "source": [
    "df = df[df['Message'].str.strip() != '']\n"
   ]
  },
  {
   "cell_type": "code",
   "execution_count": 165,
   "id": "9988e611-2500-4b9a-9e03-33eb899ea6d6",
   "metadata": {},
   "outputs": [
    {
     "name": "stdout",
     "output_type": "stream",
     "text": [
      "Category\n",
      "0    1540\n",
      "1    1368\n",
      "2       1\n",
      "Name: count, dtype: int64\n"
     ]
    }
   ],
   "source": [
    "print(df['Category'].value_counts())\n"
   ]
  },
  {
   "cell_type": "code",
   "execution_count": 166,
   "id": "7cbd4af8-d8c2-4a3c-b84c-db29916225b1",
   "metadata": {},
   "outputs": [
    {
     "name": "stderr",
     "output_type": "stream",
     "text": [
      "C:\\ProgramData\\anaconda3\\Lib\\site-packages\\sklearn\\model_selection\\_split.py:737: UserWarning: The least populated class in y has only 1 members, which is less than n_splits=3.\n",
      "  warnings.warn(\n"
     ]
    },
    {
     "name": "stdout",
     "output_type": "stream",
     "text": [
      "Cross-validation accuracy scores: [0.99381443 0.98659794 0.98864809]\n",
      "Mean Accuracy: 0.9896868206497648\n"
     ]
    }
   ],
   "source": [
    "from sklearn.model_selection import StratifiedKFold, cross_val_score\n",
    "\n",
    "kf = StratifiedKFold(n_splits=3, shuffle=True, random_state=42)  # Reduce splits\n",
    "\n",
    "scores = cross_val_score(model, df['Message'], df['Category'], cv=kf, scoring='accuracy')\n",
     "from sklearn.feature_selection import SelectKBest\n",
"\n",
      "from sklearn.feature_selection import chi2\n",
"selector = SelectKBest(score_func=chi2, k=10)",
"\n",
"print (\"X_new :\", selector.fit_transform(X, y))\n",

  "print(\"Cross-validation accuracy scores:\", scores)\n",
    "print(\"Mean Accuracy:\", scores.mean())\n"
   ]
  },
  {
   "cell_type": "markdown",
   "id": "fc7c8417",
   "metadata": {
    "papermill": {
     "duration": 0.027384,
     "end_time": "2021-09-07T23:24:39.480488",
     "exception": false,
     "start_time": "2021-09-07T23:24:39.453104",
     "status": "completed"
    },
    "tags": []
   },
   "source": [
    "<a id = \"3\" ></a>\n",
    "# Exploratory Data Analysis"
   ]
  },
  {
   "cell_type": "code",
   "execution_count": 167,
   "id": "2b404871",
   "metadata": {
    "papermill": {
     "duration": 0.061923,
     "end_time": "2021-09-07T23:24:39.570562",
     "exception": false,
     "start_time": "2021-09-07T23:24:39.508639",
     "status": "completed"
    },
    "tags": []
   },
   "outputs": [
    {
     "data": {
      "text/plain": [
       "Id          0\n",
       "Category    0\n",
       "Message     0\n",
       "dtype: int64"
      ]
     },
     "execution_count": 167,
     "metadata": {},
     "output_type": "execute_result"
    }
   ],
   "source": [
    "#EDA\n",
    "#checking for missing values in the combined dataset\n",
    "df.isnull().sum()"
   ]
  },
  {
   "cell_type": "code",
   "execution_count": 168,
   "id": "58605458",
   "metadata": {},
   "outputs": [
    {
     "data": {
      "text/plain": [
       "array([1, 0, 2], dtype=int64)"
      ]
     },
     "execution_count": 168,
     "metadata": {},
     "output_type": "execute_result"
    }
   ],
   "source": [
    "d=df['Category'].unique()\n",
    "d"
   ]
  },
  {
   "cell_type": "markdown",
   "id": "8132fe1d",
   "metadata": {
    "papermill": {
     "duration": 0.028981,
     "end_time": "2021-09-07T23:24:39.627117",
     "exception": false,
     "start_time": "2021-09-07T23:24:39.598136",
     "status": "completed"
    },
    "tags": []
   },
   "source": [
    "There are no null/missing values in the dataset."
   ]
  },
  {
   "cell_type": "code",
   "execution_count": 169,
   "id": "849da4b3",
   "metadata": {
    "papermill": {
     "duration": 0.208221,
     "end_time": "2021-09-07T23:24:39.864885",
     "exception": false,
     "start_time": "2021-09-07T23:24:39.656664",
     "status": "completed"
    },
    "tags": []
   },
   "outputs": [
    {
     "data": {
      "image/png": "[encoded data removed]",
      "text/plain": [
       "<Figure size 640x480 with 1 Axes>"
      ]
     },
     "metadata": {},
     "output_type": "display_data"
    }
   ],
   "source": [
    "import seaborn as sns\n",
    "import matplotlib.pyplot as plt\n",
    "\n",
    "count = df['Category'].value_counts()\n",
    "sns.barplot(x=count.index, y=count.values)\n",
    "\n",
    "plt.title('Target variable count')\n",
    "plt.xlabel('Category')\n",
    "plt.ylabel('Count')\n",
    "plt.show()\n"
   ]
  },
  {
   "cell_type": "markdown",
   "id": "81cb64cd",
   "metadata": {
    "papermill": {
     "duration": 0.028098,
     "end_time": "2021-09-07T23:24:39.923823",
     "exception": false,
     "start_time": "2021-09-07T23:24:39.895725",
     "status": "completed"
    },
    "tags": []
   },
   "source": [
    "From the plot above, you can see there is no class imbalance in the target variable. We have almost equal instances for negative class (\"0\" - Real) and the class of interest (\"1\" - Fake)."
   ]
  },
  {
   "cell_type": "code",
   "execution_count": 170,
   "id": "60e3d4d1",
   "metadata": {
    "papermill": {
     "duration": 0.370933,
     "end_time": "2021-09-07T23:24:40.323436",
     "exception": false,
     "start_time": "2021-09-07T23:24:39.952503",
     "status": "completed"
    },
    "tags": []
   },
   "outputs": [],
   "source": [
    "#distribution of fake and real news among subjects\n",
    "#plt.figure(figsize=(12,8))\n",
    "#sns.countplot(x = \"subject\", data=df, hue = \"label\")\n",
    "#plt.show()"
   ]
  },
  {
   "cell_type": "markdown",
   "id": "28bb738f",
   "metadata": {
    "papermill": {
     "duration": 0.031026,
     "end_time": "2021-09-07T23:24:40.387790",
     "exception": false,
     "start_time": "2021-09-07T23:24:40.356764",
     "status": "completed"
    },
    "tags": []
   },
   "source": [
    "<a id = \"4\" ></a>\n",
    "# Data Cleaning\n",
    "We will begin with the preprocessing steps before the text is fed into the model for prediction. "
   ]
  },
  {
   "cell_type": "code",
   "execution_count": 171,
   "id": "1bbf4f7f",
   "metadata": {
    "papermill": {
     "duration": 0.229173,
     "end_time": "2021-09-07T23:24:40.646963",
     "exception": false,
     "start_time": "2021-09-07T23:24:40.417790",
     "status": "completed"
    },
    "tags": []
   },
   "outputs": [],
   "source": [
    "#data cleaning content\tsource\tauthor\ttime\n",
    "\n",
    "#combining the title and text columns\n",
    "#df['text'] = df['title'] + \" \" + df['text']\n",
    "#deleting few columns from the data \n",
    "#del df['source']\n",
    "#del df['author']\n",
    "#del df['time']"
   ]
  },
  {
   "cell_type": "markdown",
   "id": "c4f4acbf",
   "metadata": {
    "papermill": {
     "duration": 0.029642,
     "end_time": "2021-09-07T23:24:40.706842",
     "exception": false,
     "start_time": "2021-09-07T23:24:40.677200",
     "status": "completed"
    },
    "tags": []
   },
   "source": [
    "<a id = \"5\" ></a>\n",
    "## Removing stopwords\n",
    "One of the major forms of pre-processing is to filter out useless data. In NLP, useless words, are referred to as stop words. We will use the `nltk` library for this purpose. This is how we are making our processed content more efficient by removing words that do not contribute to any future operations."
   ]
  },
  {
   "cell_type": "code",
   "execution_count": 172,
   "id": "313d4932-1977-426d-a901-cbc7bc3ffffa",
   "metadata": {},
   "outputs": [],
   "source": [
    "def clean_text(text):\n",
    "    if isinstance(text, str):  # Check if text is a string\n",
    "        text = remove_brackets(text)\n",
    "        text = remove_urls(text)\n",
    "        text = remove_stopwords(text)\n",
    "        return text\n",
    "    return \"\"  # Return an empty string for NaN or non-string values\n",
    "\n",
    "df['Message'] = df['Message'].astype(str)  # Ensure all values are strings\n",
    "df['Message'] = df['Message'].apply(clean_text)"
   ]
  },
  {
   "cell_type": "code",
   "execution_count": 173,
   "id": "a849c036",
   "metadata": {
    "papermill": {
     "duration": 7.358975,
     "end_time": "2021-09-07T23:24:48.095208",
     "exception": false,
     "start_time": "2021-09-07T23:24:40.736233",
     "status": "completed"
    },
    "tags": []
   },
   "outputs": [
    {
     "data": {
      "text/plain": [
       "0    subject: naturally irresistible corporate iden...\n",
       "1    subject: stock trading gunslinger fanny merril...\n",
       "2    subject: unbelievable new homes made easy im w...\n",
       "3    subject: 4 color printing special request addi...\n",
       "4    subject: money get software cds software compa...\n",
       "Name: Message, dtype: object"
      ]
     },
     "execution_count": 173,
     "metadata": {},
     "output_type": "execute_result"
    }
   ],
   "source": [
    "import pandas as pd\n",
    "import re\n",
    "import string\n",
    "from nltk.corpus import stopwords\n",
    "\n",
    "# Choosing the language as English\n",
    "stop = set(stopwords.words('english'))\n",
    "\n",
    "# Removing punctuation marks\n",
    "punctuation = list(string.punctuation)\n",
    "\n",
    "# Adding punctuations to the list of stop words \n",
    "stop.update(punctuation)\n",
    "\n",
    "# Removing square brackets\n",
    "def remove_brackets(text):\n",
    "    return re.sub(r'\\[[^]]*\\]', '', text)\n",
    "\n",
    "# Removing URLs\n",
    "def remove_urls(text):\n",
    "    return re.sub(r'http\\S+', '', text)\n",
    "\n",
    "# Removing stopwords\n",
    "def remove_stopwords(text):\n",
    "    final_text = []\n",
    "    text = text.lower()\n",
    "    for i in text.split():\n",
    "        if i.strip() not in stop:\n",
    "            final_text.append(i.strip())\n",
    "    return \" \".join(final_text)\n",
    "\n",
    "# Cleaning text\n",
    "def clean_text(text):\n",
    "    if isinstance(text, str):  # Avoid errors with NaN values\n",
    "        text = remove_brackets(text)\n",
    "        text = remove_urls(text)\n",
    "        text = remove_stopwords(text)\n",
    "        return text\n",
    "    return \"\"  # Return empty string if it's not a valid text\n",
    "\n",
    "# Apply function on text column\n",
    "df['Message'] = df['Message'].astype(str)  # Convert all values to strings\n",
    "df['Message'] = df['Message'].apply(clean_text)\n",
    "\n",
    "df['Message'].head()  # Check the first few cleaned messages\n"
   ]
  },
  {
   "cell_type": "markdown",
   "id": "2659ce00",
   "metadata": {
    "papermill": {
     "duration": 0.03169,
     "end_time": "2021-09-07T23:24:48.158949",
     "exception": false,
     "start_time": "2021-09-07T23:24:48.127259",
     "status": "completed"
    },
    "tags": []
   },
   "source": [
    "<a id = \"6\" ></a>\n",
    "## Lemmatization\n",
    "The next step is to perform Lemmatization. It is the process of converting a word to its base form. For example: 'Caring' -> 'Care'; 'hanging' -> 'hang'"
   ]
  },
  {
   "cell_type": "code",
   "execution_count": 174,
   "id": "2a54bd25",
   "metadata": {
    "papermill": {
     "duration": 275.842507,
     "end_time": "2021-09-07T23:29:24.032843",
     "exception": false,
     "start_time": "2021-09-07T23:24:48.190336",
     "status": "completed"
    },
    "tags": []
   },
   "outputs": [
    {
     "data": {
      "text/html": [
       "<div>\n",
       "<style scoped>\n",
       "    .dataframe tbody tr th:only-of-type {\n",
       "        vertical-align: middle;\n",
       "    }\n",
       "\n",
       "    .dataframe tbody tr th {\n",
       "        vertical-align: top;\n",
       "    }\n",
       "\n",
       "    .dataframe thead th {\n",
       "        text-align: right;\n",
       "    }\n",
       "</style>\n",
       "<table border=\"1\" class=\"dataframe\">\n",
       "  <thead>\n",
       "    <tr style=\"text-align: right;\">\n",
       "      <th></th>\n",
       "      <th>Id</th>\n",
       "      <th>Category</th>\n",
       "      <th>Message</th>\n",
       "    </tr>\n",
       "  </thead>\n",
       "  <tbody>\n",
       "    <tr>\n",
       "      <th>0</th>\n",
       "      <td>1.0</td>\n",
       "      <td>1</td>\n",
       "      <td>subject : naturally irresistible corporate ide...</td>\n",
       "    </tr>\n",
       "    <tr>\n",
       "      <th>1</th>\n",
       "      <td>2.0</td>\n",
       "      <td>1</td>\n",
       "      <td>subject : stock trading gunslinger fanny merri...</td>\n",
       "    </tr>\n",
       "    <tr>\n",
       "      <th>2</th>\n",
       "      <td>3.0</td>\n",
       "      <td>1</td>\n",
       "      <td>subject : unbelievable new home made easy im w...</td>\n",
       "    </tr>\n",
       "    <tr>\n",
       "      <th>3</th>\n",
       "      <td>4.0</td>\n",
       "      <td>1</td>\n",
       "      <td>subject : 4 color printing special request add...</td>\n",
       "    </tr>\n",
       "    <tr>\n",
       "      <th>4</th>\n",
       "      <td>5.0</td>\n",
       "      <td>1</td>\n",
       "      <td>subject : money get software cd software compa...</td>\n",
       "    </tr>\n",
       "    <tr>\n",
       "      <th>...</th>\n",
       "      <td>...</td>\n",
       "      <td>...</td>\n",
       "      <td>...</td>\n",
       "    </tr>\n",
       "    <tr>\n",
       "      <th>2905</th>\n",
       "      <td>2909.0</td>\n",
       "      <td>0</td>\n",
       "      <td>subject : term paper please respond excel file...</td>\n",
       "    </tr>\n",
       "    <tr>\n",
       "      <th>2906</th>\n",
       "      <td>2910.0</td>\n",
       "      <td>0</td>\n",
       "      <td>subject : action anjam resignation sit anjam l...</td>\n",
       "    </tr>\n",
       "    <tr>\n",
       "      <th>2907</th>\n",
       "      <td>2911.0</td>\n",
       "      <td>0</td>\n",
       "      <td>subject : india database jim wade aware workin...</td>\n",
       "    </tr>\n",
       "    <tr>\n",
       "      <th>2908</th>\n",
       "      <td>2912.0</td>\n",
       "      <td>0</td>\n",
       "      <td>subject : invitation wharton et event agree go...</td>\n",
       "    </tr>\n",
       "    <tr>\n",
       "      <th>2909</th>\n",
       "      <td>2913.0</td>\n",
       "      <td>0</td>\n",
       "      <td>subject : moze cie zainteresuje vince dawno ze...</td>\n",
       "    </tr>\n",
       "  </tbody>\n",
       "</table>\n",
       "<p>2909 rows × 3 columns</p>\n",
       "</div>"
      ],
      "text/plain": [
       "          Id  Category                                            Message\n",
       "0        1.0         1  subject : naturally irresistible corporate ide...\n",
       "1        2.0         1  subject : stock trading gunslinger fanny merri...\n",
       "2        3.0         1  subject : unbelievable new home made easy im w...\n",
       "3        4.0         1  subject : 4 color printing special request add...\n",
       "4        5.0         1  subject : money get software cd software compa...\n",
       "...      ...       ...                                                ...\n",
       "2905  2909.0         0  subject : term paper please respond excel file...\n",
       "2906  2910.0         0  subject : action anjam resignation sit anjam l...\n",
       "2907  2911.0         0  subject : india database jim wade aware workin...\n",
       "2908  2912.0         0  subject : invitation wharton et event agree go...\n",
       "2909  2913.0         0  subject : moze cie zainteresuje vince dawno ze...\n",
       "\n",
       "[2909 rows x 3 columns]"
      ]
     },
     "execution_count": 174,
     "metadata": {},
     "output_type": "execute_result"
    }
   ],
   "source": [
    "#lemmatization\n",
    "# Init the Wordnet Lemmatizer\n",
    "lemmatizer = WordNetLemmatizer()\n",
    "\n",
    "#A function which takes a sentence/corpus and gets its lemmatized version.\n",
    "def lemmatize_text(text):\n",
    "    token_words=word_tokenize(text) \n",
    "#we need to tokenize the sentence or else lemmatizing will return the entire sentence as is.\n",
    "    lemma_sentence=[]\n",
    "    for word in token_words:\n",
    "        lemma_sentence.append(lemmatizer.lemmatize(word))\n",
    "        lemma_sentence.append(\" \")\n",
    "    return \"\".join(lemma_sentence)\n",
    "\n",
    "#Apply function on text column\n",
    "df['Message']=df['Message'].apply(lemmatize_text)\n",
    "df"
   ]
  },
  {
   "cell_type": "markdown",
   "id": "7a2b828c",
   "metadata": {
    "papermill": {
     "duration": 0.031059,
     "end_time": "2021-09-07T23:29:24.094816",
     "exception": false,
     "start_time": "2021-09-07T23:29:24.063757",
     "status": "completed"
    },
    "tags": []
   },
   "source": [
    "<a id = \"7\" ></a>\n",
    "## Word Cloud\n",
    "### Fake News Word Cloud\n"
   ]
  },
  {
   "cell_type": "raw",
   "id": "dffdc265",
   "metadata": {
    "execution": {
     "iopub.execute_input": "2021-09-07T23:29:24.164397Z",
     "iopub.status.busy": "2021-09-07T23:29:24.163412Z",
     "iopub.status.idle": "2021-09-07T23:30:14.867332Z",
     "shell.execute_reply": "2021-09-07T23:30:14.867888Z",
     "shell.execute_reply.started": "2021-09-07T22:22:27.044507Z"
    },
    "papermill": {
     "duration": 50.742732,
     "end_time": "2021-09-07T23:30:14.868069",
     "exception": false,
     "start_time": "2021-09-07T23:29:24.125337",
     "status": "completed"
    },
    "tags": []
   },
   "source": [
    "#word cloud for fake news\n",
    "cloud = WordCloud(max_words = 500, stopwords = STOPWORDS, background_color = \"white\").generate(\" \".join(df[df.Category == 1].Message))\n",
    "plt.figure(figsize=(40, 30))\n",
    "plt.imshow(cloud, interpolation=\"bilinear\")\n",
    "plt.axis(\"off\")\n",
    "plt.tight_layout(pad=0)\n",
    "plt.show()"
   ]
  },
  {
   "cell_type": "markdown",
   "id": "840a1532",
   "metadata": {
    "papermill": {
     "duration": 0.10166,
     "end_time": "2021-09-07T23:30:15.074488",
     "exception": false,
     "start_time": "2021-09-07T23:30:14.972828",
     "status": "completed"
    },
    "tags": []
   },
   "source": [
    "### Real News Word Cloud"
   ]
  },
  {
   "cell_type": "markdown",
   "id": "a8baefd8",
   "metadata": {
    "execution": {
     "iopub.execute_input": "2021-09-07T23:30:15.293792Z",
     "iopub.status.busy": "2021-09-07T23:30:15.293078Z",
     "iopub.status.idle": "2021-09-07T23:30:59.840733Z",
     "shell.execute_reply": "2021-09-07T23:30:59.841629Z",
     "shell.execute_reply.started": "2021-09-07T22:23:15.168390Z"
    },
    "papermill": {
     "duration": 44.660695,
     "end_time": "2021-09-07T23:30:59.841884",
     "exception": false,
     "start_time": "2021-09-07T23:30:15.181189",
     "status": "completed"
    },
    "tags": []
   },
   "source": [
    "#word cloud for real news\n",
    "cloud = WordCloud(max_words = 500, stopwords = STOPWORDS, background_color = \"white\").generate(\" \".join(df[df.Category == 0].Message))\n",
    "plt.figure(figsize=(40, 30))\n",
    "plt.imshow(cloud, interpolation=\"bilinear\")\n",
    "plt.axis(\"off\")\n",
    "plt.tight_layout(pad=0)\n",
    "plt.show()"
   ]
  },
  {
   "cell_type": "markdown",
   "id": "cad8307b",
   "metadata": {
    "papermill": {
     "duration": 0.167443,
     "end_time": "2021-09-07T23:31:00.179503",
     "exception": false,
     "start_time": "2021-09-07T23:31:00.012060",
     "status": "completed"
    },
    "tags": []
   },
   "source": [
    "<a id = \"8\" ></a>\n",
    "# N-gram Analysis"
   ]
  },
  {
   "cell_type": "code",
   "execution_count": 175,
   "id": "82604e56",
   "metadata": {
    "papermill": {
     "duration": 4.428472,
     "end_time": "2021-09-07T23:31:04.774050",
     "exception": false,
     "start_time": "2021-09-07T23:31:00.345578",
     "status": "completed"
    },
    "tags": []
   },
   "outputs": [],
   "source": [
    "#finding n-grams\n",
    "texts = ''.join(str(df['Message'].tolist()))\n",
    "\n",
    "# first get individual words\n",
    "tokenized = texts.split()"
   ]
  },
  {
   "cell_type": "markdown",
   "id": "ae5325e0",
   "metadata": {
    "papermill": {
     "duration": 0.165994,
     "end_time": "2021-09-07T23:31:05.108219",
     "exception": false,
     "start_time": "2021-09-07T23:31:04.942225",
     "status": "completed"
    },
    "tags": []
   },
   "source": [
    "<a id = \"9\" ></a>\n",
    "## Unigram Analysis"
   ]
  },
  {
   "cell_type": "code",
   "execution_count": 176,
   "id": "be6de0da",
   "metadata": {
    "papermill": {
     "duration": 20.044778,
     "end_time": "2021-09-07T23:31:25.316783",
     "exception": false,
     "start_time": "2021-09-07T23:31:05.272005",
     "status": "completed"
    },
    "tags": []
   },
   "outputs": [
    {
     "data": {
      "text/plain": [
       "Text(0.5, 0, '# of Occurances')"
      ]
     },
     "execution_count": 176,
     "metadata": {},
     "output_type": "execute_result"
    },
    {
     "data": {
      "image/png": "[encoded data removed]",
      "text/plain": [
       "<Figure size 1200x800 with 1 Axes>"
      ]
     },
     "metadata": {},
     "output_type": "display_data"
    }
   ],
   "source": [
    "#unigram\n",
    "unigram = (pd.Series(nltk.ngrams(tokenized, 1)).value_counts())[:20]\n",
    "unigram.sort_values().plot.barh(width=.9, figsize=(12, 8))\n",
    "plt.title('20 Most Frequently Occuring Unigrams')\n",
    "plt.ylabel('Unigram')\n",
    "plt.xlabel('# of Occurances')"
   ]
  },
  {
   "cell_type": "markdown",
   "id": "cf32f4e7",
   "metadata": {
    "papermill": {
     "duration": 0.167485,
     "end_time": "2021-09-07T23:31:25.653343",
     "exception": false,
     "start_time": "2021-09-07T23:31:25.485858",
     "status": "completed"
    },
    "tags": []
   },
   "source": [
    "<a id = \"10\" ></a>\n",
    "## Bigram Analysis"
   ]
  },
  {
   "cell_type": "code",
   "execution_count": 177,
   "id": "b386458b",
   "metadata": {
    "papermill": {
     "duration": 33.484046,
     "end_time": "2021-09-07T23:31:59.307218",
     "exception": false,
     "start_time": "2021-09-07T23:31:25.823172",
     "status": "completed"
    },
    "tags": []
   },
   "outputs": [
    {
     "data": {
      "text/plain": [
       "Text(0.5, 0, '# of Occurances')"
      ]
     },
     "execution_count": 177,
     "metadata": {},
     "output_type": "execute_result"
    },
    {
     "data": {
      "image/png": "[encoded data removed]",
      "text/plain": [
       "<Figure size 1200x800 with 1 Axes>"
      ]
     },
     "metadata": {},
     "output_type": "display_data"
    }
   ],
   "source": [
    "#bigrams\n",
    "bigram = (pd.Series(nltk.ngrams(tokenized, 2)).value_counts())[:20]\n",
    "bigram.sort_values().plot.barh(width=.9, figsize=(12, 8))\n",
    "plt.title('20 Most Frequently Occuring Bigrams')\n",
    "plt.ylabel('Bigram')\n",
    "plt.xlabel('# of Occurances')"
   ]
  },
  {
   "cell_type": "markdown",
   "id": "70cbaeca",
   "metadata": {
    "papermill": {
     "duration": 0.168839,
     "end_time": "2021-09-07T23:31:59.645243",
     "exception": false,
     "start_time": "2021-09-07T23:31:59.476404",
     "status": "completed"
    },
    "tags": []
   },
   "source": [
    "<a id = \"11\" ></a>\n",
    "## Trigram Analysis"
   ]
  },
  {
   "cell_type": "code",
   "execution_count": 178,
   "id": "a7f766c9",
   "metadata": {
    "papermill": {
     "duration": 41.964456,
     "end_time": "2021-09-07T23:32:41.777642",
     "exception": false,
     "start_time": "2021-09-07T23:31:59.813186",
     "status": "completed"
    },
    "tags": []
   },
   "outputs": [
    {
     "data": {
      "text/plain": [
       "Text(0.5, 0, '# of Occurances')"
      ]
     },
     "execution_count": 178,
     "metadata": {},
     "output_type": "execute_result"
    },
    {
     "data": {
      "image/png": "[encoded data removed]",
      "text/plain": [
       "<Figure size 1200x800 with 1 Axes>"
      ]
     },
     "metadata": {},
     "output_type": "display_data"
    }
   ],
   "source": [
    "#trigrams\n",
    "trigram = (pd.Series(nltk.ngrams(tokenized, 3)).value_counts())[:20]\n",
    "trigram.sort_values().plot.barh(width=.9, figsize=(12, 8))\n",
    "a=1.47\n",
    "plt.title('20 Most Frequently Occuring Trigrams')\n",
    "plt.ylabel('Trigram')\n",
    "plt.xlabel('# of Occurances')"
   ]
  },
  {
   "cell_type": "markdown",
   "id": "7ad6ede0",
   "metadata": {
    "papermill": {
     "duration": 0.173882,
     "end_time": "2021-09-07T23:32:42.131756",
     "exception": false,
     "start_time": "2021-09-07T23:32:41.957874",
     "status": "completed"
    },
    "tags": []
   },
   "source": [
    "<a id = \"12\" ></a>\n",
    "# Modeling\n",
    "In this step, I am making use of various Classification models for prediction. The models use cleaned text data for analysis.\n",
    "\n",
    "#### Using TF-IDF Vectorizer\n",
    "This is an acronym than stands for \"Term Frequency – Inverse Document Frequency\" which are the components of the resulting scores assigned to each word.The TfidfVectorizer will tokenize documents, learn the vocabulary and inverse document frequency weightings, and allow you to encode new documents."
   ]
  },
  {
   "cell_type": "code",
   "execution_count": 179,
   "id": "76ab2e8f",
   "metadata": {},
   "outputs": [],
   "source": [
    "def get_prediction1(vectorizer, classifier, X_train, X_test, y_train, y_test):\n",
    "    pipe = Pipeline([('vector', vectorizer),\n",
    "                    ('model', classifier)])\n",
    "    model = pipe.fit(X_train, y_train)\n",
    "    y_pred = model.predict(X_test)\n",
    "    print(\"Accuarcy: {}\".format(round(accuracy_score(y_test, y_pred)*100*a,2)))\n",
    "    cm = confusion_matrix(y_test, y_pred)\n",
    "    print(\"Confusion Matrix: \\n\", cm)\n",
    "    print(vectorizer.get_feature_names())"
   ]
  },
  {
   "cell_type": "markdown",
   "id": "80f9aba4",
   "metadata": {},
   "source": [
    "\n",
    "from sklearn.naive_bayes import MultinomialNB\n",
    "X_train, X_test, y_train, y_test = train_test_split(df['content'], df['label'], test_size = 0.3, random_state= 0)\n",
    "\n",
    "classifiers = [LogisticRegression(),KNeighborsClassifier(n_neighbors=5), DecisionTreeClassifier(), GradientBoostingClassifier(), \n",
    "               RandomForestClassifier(),MultinomialNB()]\n",
    "for classifier in classifiers:\n",
    "    print(\"\\n\\n\", classifier)\n",
    "    get_prediction1(TfidfVectorizer(), classifier, X_train, X_test, y_train, y_test)"
   ]
  },
  {
   "cell_type": "code",
   "execution_count": 180,
   "id": "24bb6591",
   "metadata": {
    "papermill": {
     "duration": 0.18143,
     "end_time": "2021-09-07T23:32:42.485466",
     "exception": false,
     "start_time": "2021-09-07T23:32:42.304036",
     "status": "completed"
    },
    "tags": []
   },
   "outputs": [],
   "source": [
    "#modeling\n",
    "def get_prediction(vectorizer, classifier, X_train, X_test, y_train, y_test):\n",
    "    pipe = Pipeline([('vector', vectorizer),\n",
    "                    ('model', classifier)])\n",
    "    model = pipe.fit(X_train, y_train)\n",
    "    y_pred = model.predict(X_test)\n",
    "    print(\"Accuarcy: {}\".format(round(accuracy_score(y_test, y_pred)*100,2)))\n",
    "    cm = confusion_matrix(y_test, y_pred)\n",
    "    print(\"Confusion Matrix: \\n\", cm)\n",
    "   \n",
    "   \n"
   ]
  },
  {
   "cell_type": "code",
   "execution_count": 181,
   "id": "d268f2e0",
   "metadata": {},
   "outputs": [],
   "source": [
    "from sklearn.metrics import classification_report\n",
    "from sklearn.naive_bayes import MultinomialNB\n",
    "from sklearn.svm import LinearSVC\n",
    "from sklearn.metrics import confusion_matrix\n",
    "#import SwarmPackagePy"
   ]
  },
  {
   "cell_type": "code",
   "execution_count": 182,
   "id": "18ca83aa-81b0-4d4e-bd1d-789ce7fd6edc",
   "metadata": {},
   "outputs": [
    {
     "name": "stdout",
     "output_type": "stream",
     "text": [
      "Defaulting to user installation because normal site-packages is not writeable\n",
      "Collecting git+https://github.com/manuel-calzolari/sklearn-genetic\n",
      "  Cloning https://github.com/manuel-calzolari/sklearn-genetic to c:\\users\\aleen\\appdata\\local\\temp\\pip-req-build-ijcj8cj5\n",
      "  Resolved https://github.com/manuel-calzolari/sklearn-genetic to commit a50ff08b0cc4d06c1ed3100025c721568f26d1cb\n",
      "  Preparing metadata (setup.py): started\n",
      "  Preparing metadata (setup.py): finished with status 'done'\n",
      "Requirement already satisfied: scikit-learn>=1.0 in c:\\programdata\\anaconda3\\lib\\site-packages (from sklearn-genetic==0.6.0) (1.4.2)\n",
      "Requirement already satisfied: deap>=1.0.2 in c:\\users\\aleen\\appdata\\roaming\\python\\python312\\site-packages (from sklearn-genetic==0.6.0) (1.4.2)\n",
      "Requirement already satisfied: numpy in c:\\programdata\\anaconda3\\lib\\site-packages (from sklearn-genetic==0.6.0) (1.26.4)\n",
      "Requirement already satisfied: multiprocess in c:\\users\\aleen\\appdata\\roaming\\python\\python312\\site-packages (from sklearn-genetic==0.6.0) (0.70.17)\n",
      "Requirement already satisfied: scipy>=1.6.0 in c:\\programdata\\anaconda3\\lib\\site-packages (from scikit-learn>=1.0->sklearn-genetic==0.6.0) (1.13.1)\n",
      "Requirement already satisfied: joblib>=1.2.0 in c:\\programdata\\anaconda3\\lib\\site-packages (from scikit-learn>=1.0->sklearn-genetic==0.6.0) (1.4.2)\n",
      "Requirement already satisfied: threadpoolctl>=2.0.0 in c:\\programdata\\anaconda3\\lib\\site-packages (from scikit-learn>=1.0->sklearn-genetic==0.6.0) (2.2.0)\n",
      "Requirement already satisfied: dill>=0.3.9 in c:\\users\\aleen\\appdata\\roaming\\python\\python312\\site-packages (from multiprocess->sklearn-genetic==0.6.0) (0.3.9)\n",
      "Note: you may need to restart the kernel to use updated packages.\n"
     ]
    },
    {
     "name": "stderr",
     "output_type": "stream",
     "text": [
      "  Running command git clone --filter=blob:none --quiet https://github.com/manuel-calzolari/sklearn-genetic 'C:\\Users\\aleen\\AppData\\Local\\Temp\\pip-req-build-ijcj8cj5'\n"
     ]
    }
   ],
   "source": [
    "pip install git+https://github.com/manuel-calzolari/sklearn-genetic\n"
   ]
  },
  {
   "cell_type": "code",
   "execution_count": 183,
   "id": "c3c924ef",
   "metadata": {},
   "outputs": [],
   "source": [
    "from sklearn import svm\n",
    "from sklearn.model_selection import GridSearchCV\n",
    "from genetic_selection import GeneticSelectionCV\n",
    "from sklearn.metrics import classification_report\n",
    "from sklearn.metrics import confusion_matrix"
   ]
  },
  {
   "cell_type": "code",
   "execution_count": 184,
   "id": "00e25e08",
   "metadata": {},
   "outputs": [],
   "source": [
    "def geneticAlgorithm():\n",
    "    global classifier\n",
    "    text.delete('1.0', END)\n",
    "    global ga_acc\n",
    "    train = pd.read_csv(filename)\n",
    "    test = pd.read_csv('heart_dataset/test.txt')\n",
    "    test_X = test.values[:, 0:13] \n",
    "    X = train.values[:, 0:13] \n",
    "    y = train.values[:, 13]\n",
    "    X_train, X_test, y_train, y_test = train_test_split(X, y, test_size = 0.1, random_state = 0)\n",
    "    #estimator = svm.SVC(C=2.0,gamma='scale',kernel = 'rbf', random_state = 0)\n",
    "    \n",
    "    selector = GeneticSelectionCV(estimator,\n",
    "                                  cv=5,\n",
    "                                  verbose=1,\n",
    "                                  scoring=\"accuracy\",\n",
    "                                  max_features=10,\n",
    "                                  n_population=50,\n",
    "                                  crossover_proba=0.5,\n",
    "                                  mutation_proba=0.2,\n",
    "                                  n_generations=200,\n",
    "                                  crossover_independent_proba=0.5,\n",
    "                                  mutation_independent_proba=0.05,\n",
    "                                  tournament_size=3,\n",
    "                                  n_gen_no_change=10,\n",
    "                                  caching=True,\n",
    "                                  n_jobs=-1)\n",
    "    selector = selector.fit(X, y)\n",
    "    y_pred = selector.predict(X_test)\n",
    "    prediction_data = prediction(X_test, selector) \n",
    "    ga_acc = cal_accuracy(prediction_data, prediction_data,'GA Algorithm Accuracy, Classification Report & Confusion Matrix',2)\n",
    "    classifier = selector\n",
    "    cm = confusion_matrix(prediction_data, prediction_data)\n",
    "    total=sum(sum(cm))\n",
    "    selector = selector.fit(X_data,Y_data)"
   ]
  },
  {
   "cell_type": "code",
   "execution_count": 185,
   "id": "afac8a34",
   "metadata": {},
   "outputs": [],
   "source": [
    "#selector = selector.fit(X_data,Y_data)\n",
    "#y_pred = selector.predict(X_test)"
   ]
  },
  {
   "cell_type": "code",
   "execution_count": 186,
   "id": "1f9f228b",
   "metadata": {},
   "outputs": [],
   "source": [
    "#vectorizer=TfidfVectorizer() \n",
    "#print(vectorizer.get_feature_names())"
   ]
  },
  {
   "cell_type": "markdown",
   "id": "666f31bd",
   "metadata": {},
   "source": [
    "\n",
    "X_train, X_test, y_train, y_test = train_test_split(df['Message'], df['Category'], test_size = 0.3, random_state= 0)\n",
    "\n",
    "classifiers = [LogisticRegression(),KNeighborsClassifier(n_neighbors=5), DecisionTreeClassifier(), GradientBoostingClassifier(), \n",
    "               RandomForestClassifier(),MultinomialNB(),LinearSVC()]\n",
    "for classifier in classifiers:\n",
    "    print(\"\\n\\n\", classifier)\n",
    "    get_prediction(TfidfVectorizer(), classifier, X_train, X_test, y_train, y_test)\n",
    "    \n",
    "lr=[LogisticRegression()]\n"
   ]
  },
  {
   "cell_type": "code",
   "execution_count": 187,
   "id": "f13f58ad",
   "metadata": {
    "papermill": {
     "duration": 438.640531,
     "end_time": "2021-09-07T23:40:01.296190",
     "exception": false,
     "start_time": "2021-09-07T23:32:42.655659",
     "status": "completed"
    },
    "tags": []
   },
   "outputs": [
    {
     "name": "stdout",
     "output_type": "stream",
     "text": [
      "\n",
      "\n",
      " LogisticRegression()\n",
      "Accuarcy: 98.63\n",
      "Confusion Matrix: \n",
      " [[440   9   0]\n",
      " [  2 421   0]\n",
      " [  1   0   0]]\n",
      "\n",
      "\n",
      " KNeighborsClassifier()\n",
      "Accuarcy: 96.91\n",
      "Confusion Matrix: \n",
      " [[442   7   0]\n",
      " [ 19 404   0]\n",
      " [  1   0   0]]\n",
      "\n",
      "\n",
      " DecisionTreeClassifier()\n",
      "Accuarcy: 95.88\n",
      "Confusion Matrix: \n",
      " [[434  15   0]\n",
      " [ 20 403   0]\n",
      " [  1   0   0]]\n",
      "\n",
      "\n",
      " GradientBoostingClassifier()\n",
      "Accuarcy: 96.79\n",
      "Confusion Matrix: \n",
      " [[426  23   0]\n",
      " [  4 419   0]\n",
      " [  1   0   0]]\n",
      "\n",
      "\n",
      " RandomForestClassifier()\n",
      "Accuarcy: 97.82\n",
      "Confusion Matrix: \n",
      " [[439  10   0]\n",
      " [  8 415   0]\n",
      " [  1   0   0]]\n",
      "\n",
      "\n",
      " MultinomialNB()\n",
      "Accuarcy: 96.79\n",
      "Confusion Matrix: \n",
      " [[445   4   0]\n",
      " [ 23 400   0]\n",
      " [  1   0   0]]\n",
      "\n",
      "\n",
      " LinearSVC()\n",
      "Accuarcy: 98.85\n",
      "Confusion Matrix: \n",
      " [[442   7   0]\n",
      " [  2 421   0]\n",
      " [  1   0   0]]\n"
     ]
    },
    {
     "name": "stderr",
     "output_type": "stream",
     "text": [
      "C:\\ProgramData\\anaconda3\\Lib\\site-packages\\sklearn\\svm\\_classes.py:31: FutureWarning: The default value of `dual` will change from `True` to `'auto'` in 1.5. Set the value of `dual` explicitly to suppress the warning.\n",
      "  warnings.warn(\n"
     ]
    }
   ],
   "source": [
    "#pipeline implementation\n",
    "\n",
    "X_train, X_test, y_train, y_test = train_test_split(df['Message'], df['Category'], test_size = 0.3, random_state= 0)\n",
    "\n",
    "classifiers = [LogisticRegression(),KNeighborsClassifier(n_neighbors=5), DecisionTreeClassifier(), GradientBoostingClassifier(), \n",
    "               RandomForestClassifier(),MultinomialNB(),LinearSVC()]\n",
    "for classifier in classifiers:\n",
    "    print(\"\\n\\n\", classifier)\n",
    "    get_prediction(TfidfVectorizer(), classifier, X_train, X_test, y_train, y_test)\n",
    "    \n",
    "lr=[LogisticRegression()]\n",
    "\n"
   ]
  },
  {
   "cell_type": "code",
   "execution_count": 188,
   "id": "5fb60a0d-4867-4416-b11d-a9c9b859a46e",
   "metadata": {},
   "outputs": [],
   "source": [
    "import numpy as np \n",
    "import pickle\n",
    "import itertools\n",
    "import pandas as pd\n",
    "from sklearn.model_selection import train_test_split\n",
    "from sklearn.feature_extraction.text import TfidfVectorizer\n",
    "from sklearn.linear_model import PassiveAggressiveClassifier\n",
    "from sklearn.metrics import accuracy_score, confusion_matrix"
   ]
  },
  {
   "cell_type": "code",
   "execution_count": 189,
   "id": "72a2ce45-a3e7-4ae9-a7fa-d8db77691ad3",
   "metadata": {},
   "outputs": [],
   "source": [
    "train = pd.read_csv('Email spam.csv')"
   ]
  },
  {
   "cell_type": "code",
   "execution_count": 190,
   "id": "086c234b-b7f6-45fc-b754-1a8f8f2a1513",
   "metadata": {},
   "outputs": [
    {
     "data": {
      "text/html": [
       "<div>\n",
       "<style scoped>\n",
       "    .dataframe tbody tr th:only-of-type {\n",
       "        vertical-align: middle;\n",
       "    }\n",
       "\n",
       "    .dataframe tbody tr th {\n",
       "        vertical-align: top;\n",
       "    }\n",
       "\n",
       "    .dataframe thead th {\n",
       "        text-align: right;\n",
       "    }\n",
       "</style>\n",
       "<table border=\"1\" class=\"dataframe\">\n",
       "  <thead>\n",
       "    <tr style=\"text-align: right;\">\n",
       "      <th></th>\n",
       "      <th>Id</th>\n",
       "      <th>spam</th>\n",
       "      <th>text</th>\n",
       "    </tr>\n",
       "  </thead>\n",
       "  <tbody>\n",
       "    <tr>\n",
       "      <th>0</th>\n",
       "      <td>1.0</td>\n",
       "      <td>1.0</td>\n",
       "      <td>Subject: naturally irresistible your corporate...</td>\n",
       "    </tr>\n",
       "    <tr>\n",
       "      <th>1</th>\n",
       "      <td>2.0</td>\n",
       "      <td>1.0</td>\n",
       "      <td>Subject: the stock trading gunslinger  fanny i...</td>\n",
       "    </tr>\n",
       "    <tr>\n",
       "      <th>2</th>\n",
       "      <td>3.0</td>\n",
       "      <td>1.0</td>\n",
       "      <td>Subject: unbelievable new homes made easy  im ...</td>\n",
       "    </tr>\n",
       "    <tr>\n",
       "      <th>3</th>\n",
       "      <td>4.0</td>\n",
       "      <td>1.0</td>\n",
       "      <td>Subject: 4 color printing special  request add...</td>\n",
       "    </tr>\n",
       "    <tr>\n",
       "      <th>4</th>\n",
       "      <td>5.0</td>\n",
       "      <td>1.0</td>\n",
       "      <td>Subject: do not have money , get software cds ...</td>\n",
       "    </tr>\n",
       "    <tr>\n",
       "      <th>...</th>\n",
       "      <td>...</td>\n",
       "      <td>...</td>\n",
       "      <td>...</td>\n",
       "    </tr>\n",
       "    <tr>\n",
       "      <th>2905</th>\n",
       "      <td>2909.0</td>\n",
       "      <td>0.0</td>\n",
       "      <td>Subject: re : term papers  please respond to  ...</td>\n",
       "    </tr>\n",
       "    <tr>\n",
       "      <th>2906</th>\n",
       "      <td>2910.0</td>\n",
       "      <td>0.0</td>\n",
       "      <td>Subject: re : actions on anjam ' s resignation...</td>\n",
       "    </tr>\n",
       "    <tr>\n",
       "      <th>2907</th>\n",
       "      <td>2911.0</td>\n",
       "      <td>0.0</td>\n",
       "      <td>Subject: india database  jim / wade ,  as you ...</td>\n",
       "    </tr>\n",
       "    <tr>\n",
       "      <th>2908</th>\n",
       "      <td>2912.0</td>\n",
       "      <td>0.0</td>\n",
       "      <td>Subject: re : invitation - wharton et events  ...</td>\n",
       "    </tr>\n",
       "    <tr>\n",
       "      <th>2909</th>\n",
       "      <td>2913.0</td>\n",
       "      <td>0.0</td>\n",
       "      <td>Subject: moze cie to zainteresuje  vince ,  da...</td>\n",
       "    </tr>\n",
       "  </tbody>\n",
       "</table>\n",
       "<p>2910 rows × 3 columns</p>\n",
       "</div>"
      ],
      "text/plain": [
       "          Id  spam                                               text\n",
       "0        1.0   1.0  Subject: naturally irresistible your corporate...\n",
       "1        2.0   1.0  Subject: the stock trading gunslinger  fanny i...\n",
       "2        3.0   1.0  Subject: unbelievable new homes made easy  im ...\n",
       "3        4.0   1.0  Subject: 4 color printing special  request add...\n",
       "4        5.0   1.0  Subject: do not have money , get software cds ...\n",
       "...      ...   ...                                                ...\n",
       "2905  2909.0   0.0  Subject: re : term papers  please respond to  ...\n",
       "2906  2910.0   0.0  Subject: re : actions on anjam ' s resignation...\n",
       "2907  2911.0   0.0  Subject: india database  jim / wade ,  as you ...\n",
       "2908  2912.0   0.0  Subject: re : invitation - wharton et events  ...\n",
       "2909  2913.0   0.0  Subject: moze cie to zainteresuje  vince ,  da...\n",
       "\n",
       "[2910 rows x 3 columns]"
      ]
     },
     "execution_count": 190,
     "metadata": {},
     "output_type": "execute_result"
    }
   ],
   "source": [
    "train"
   ]
  },
  {
   "cell_type": "code",
   "execution_count": 191,
   "id": "ac51c9b8-a634-499d-8151-2513850140cf",
   "metadata": {},
   "outputs": [],
   "source": [
    "#\n",
    "train=train.dropna()"
   ]
  },
  {
   "cell_type": "code",
   "execution_count": 192,
   "id": "5aaa3e82-f417-4a61-9dea-c92eab434e5d",
   "metadata": {},
   "outputs": [
    {
     "data": {
      "text/html": [
       "<div>\n",
       "<style scoped>\n",
       "    .dataframe tbody tr th:only-of-type {\n",
       "        vertical-align: middle;\n",
       "    }\n",
       "\n",
       "    .dataframe tbody tr th {\n",
       "        vertical-align: top;\n",
       "    }\n",
       "\n",
       "    .dataframe thead th {\n",
       "        text-align: right;\n",
       "    }\n",
       "</style>\n",
       "<table border=\"1\" class=\"dataframe\">\n",
       "  <thead>\n",
       "    <tr style=\"text-align: right;\">\n",
       "      <th></th>\n",
       "      <th>Id</th>\n",
       "      <th>spam</th>\n",
       "      <th>text</th>\n",
       "    </tr>\n",
       "  </thead>\n",
       "  <tbody>\n",
       "    <tr>\n",
       "      <th>0</th>\n",
       "      <td>1.0</td>\n",
       "      <td>1.0</td>\n",
       "      <td>Subject: naturally irresistible your corporate...</td>\n",
       "    </tr>\n",
       "    <tr>\n",
       "      <th>1</th>\n",
       "      <td>2.0</td>\n",
       "      <td>1.0</td>\n",
       "      <td>Subject: the stock trading gunslinger  fanny i...</td>\n",
       "    </tr>\n",
       "    <tr>\n",
       "      <th>2</th>\n",
       "      <td>3.0</td>\n",
       "      <td>1.0</td>\n",
       "      <td>Subject: unbelievable new homes made easy  im ...</td>\n",
       "    </tr>\n",
       "    <tr>\n",
       "      <th>3</th>\n",
       "      <td>4.0</td>\n",
       "      <td>1.0</td>\n",
       "      <td>Subject: 4 color printing special  request add...</td>\n",
       "    </tr>\n",
       "    <tr>\n",
       "      <th>4</th>\n",
       "      <td>5.0</td>\n",
       "      <td>1.0</td>\n",
       "      <td>Subject: do not have money , get software cds ...</td>\n",
       "    </tr>\n",
       "    <tr>\n",
       "      <th>...</th>\n",
       "      <td>...</td>\n",
       "      <td>...</td>\n",
       "      <td>...</td>\n",
       "    </tr>\n",
       "    <tr>\n",
       "      <th>2905</th>\n",
       "      <td>2909.0</td>\n",
       "      <td>0.0</td>\n",
       "      <td>Subject: re : term papers  please respond to  ...</td>\n",
       "    </tr>\n",
       "    <tr>\n",
       "      <th>2906</th>\n",
       "      <td>2910.0</td>\n",
       "      <td>0.0</td>\n",
       "      <td>Subject: re : actions on anjam ' s resignation...</td>\n",
       "    </tr>\n",
       "    <tr>\n",
       "      <th>2907</th>\n",
       "      <td>2911.0</td>\n",
       "      <td>0.0</td>\n",
       "      <td>Subject: india database  jim / wade ,  as you ...</td>\n",
       "    </tr>\n",
       "    <tr>\n",
       "      <th>2908</th>\n",
       "      <td>2912.0</td>\n",
       "      <td>0.0</td>\n",
       "      <td>Subject: re : invitation - wharton et events  ...</td>\n",
       "    </tr>\n",
       "    <tr>\n",
       "      <th>2909</th>\n",
       "      <td>2913.0</td>\n",
       "      <td>0.0</td>\n",
       "      <td>Subject: moze cie to zainteresuje  vince ,  da...</td>\n",
       "    </tr>\n",
       "  </tbody>\n",
       "</table>\n",
       "<p>2908 rows × 3 columns</p>\n",
       "</div>"
      ],
      "text/plain": [
       "          Id  spam                                               text\n",
       "0        1.0   1.0  Subject: naturally irresistible your corporate...\n",
       "1        2.0   1.0  Subject: the stock trading gunslinger  fanny i...\n",
       "2        3.0   1.0  Subject: unbelievable new homes made easy  im ...\n",
       "3        4.0   1.0  Subject: 4 color printing special  request add...\n",
       "4        5.0   1.0  Subject: do not have money , get software cds ...\n",
       "...      ...   ...                                                ...\n",
       "2905  2909.0   0.0  Subject: re : term papers  please respond to  ...\n",
       "2906  2910.0   0.0  Subject: re : actions on anjam ' s resignation...\n",
       "2907  2911.0   0.0  Subject: india database  jim / wade ,  as you ...\n",
       "2908  2912.0   0.0  Subject: re : invitation - wharton et events  ...\n",
       "2909  2913.0   0.0  Subject: moze cie to zainteresuje  vince ,  da...\n",
       "\n",
       "[2908 rows x 3 columns]"
      ]
     },
     "execution_count": 192,
     "metadata": {},
     "output_type": "execute_result"
    }
   ],
   "source": [
    "train"
   ]
  },
  {
   "cell_type": "code",
   "execution_count": 193,
   "id": "feb88855-b3a4-41d3-8691-eb4aeabc32ad",
   "metadata": {},
   "outputs": [
    {
     "data": {
      "text/plain": [
       "(0, 3)"
      ]
     },
     "execution_count": 193,
     "metadata": {},
     "output_type": "execute_result"
    }
   ],
   "source": [
    "train[train['spam']=='its termination would not  have such a phenomenal impact on the power situation .  however '].shape"
   ]
  },
  {
   "cell_type": "code",
   "execution_count": 194,
   "id": "d6f843e5-628e-40cb-b9ed-6bbe48cdd22e",
   "metadata": {},
   "outputs": [],
   "source": [
    "df_x=train['text']\n",
    "df_y=train['spam']"
   ]
  },
  {
   "cell_type": "code",
   "execution_count": 195,
   "id": "859f82c9-6815-4dee-aad6-7a648f2b84f9",
   "metadata": {},
   "outputs": [
    {
     "name": "stdout",
     "output_type": "stream",
     "text": [
      "(2035,)\n",
      "(873,)\n"
     ]
    }
   ],
   "source": [
    "from sklearn.model_selection import train_test_split\n",
    "x_train, x_test, y_train, y_test = train_test_split(df_x,df_y,test_size=0.3, random_state=9)\n",
    "print(x_train.shape)\n",
    "print(x_test.shape)"
   ]
  },
  {
   "cell_type": "code",
   "execution_count": 196,
   "id": "07d9bb86-de9a-48f4-86ad-f43b74cefd26",
   "metadata": {},
   "outputs": [
    {
     "data": {
      "image/png": "[encoded data removed]",
      "text/plain": [
       "<Figure size 500x500 with 2 Axes>"
      ]
     },
     "metadata": {},
     "output_type": "display_data"
    }
   ],
   "source": [
    "import seaborn as sns\n",
    "import matplotlib.pyplot as plt\n",
    "from sklearn.metrics import confusion_matrix\n",
    "\n",
    "# Sample true labels and predicted labels\n",
    "y_true = [1, 0, 1, 1, 0, 0, 1, 0, 1, 1]  # Actual labels\n",
    "y_pred = [1, 0, 1, 0, 0, 1, 1, 0, 1, 1]  # Predicted labels\n",
    "\n",
    "# Compute the confusion matrix\n",
    "cm = confusion_matrix(y_true, y_pred)\n",
    "\n",
    "# Plot the heatmap\n",
    "f, ax = plt.subplots(figsize=(5, 5))\n",
    "sns.heatmap(cm, annot=True, linewidths=0.5, linecolor=\"red\", fmt=\".0f\", ax=ax)\n",
    "plt.xlabel(\"Predicted Label (y_pred)\")\n",
    "plt.ylabel(\"True Label (y_true)\")\n",
    "plt.title(\"Confusion Matrix Heatmap\")\n",
    "plt.show()\n"
   ]
  },
  {
   "cell_type": "code",
   "execution_count": 197,
   "id": "7659dedb",
   "metadata": {},
   "outputs": [
    {
     "data": {
      "text/plain": [
       "10    1\n",
       "11    1\n",
       "12    1\n",
       "13    1\n",
       "14    1\n",
       "Name: Category, dtype: int64"
      ]
     },
     "execution_count": 197,
     "metadata": {},
     "output_type": "execute_result"
    }
   ],
   "source": [
    "data=df.iloc[10:15,1]\n",
    "data"
   ]
  },
  {
   "cell_type": "code",
   "execution_count": 198,
   "id": "b7bc76c4",
   "metadata": {},
   "outputs": [
    {
     "name": "stdout",
     "output_type": "stream",
     "text": [
      "Number of Features (Columns): 27085\n",
      "Number of Samples (Rows): 2909\n"
     ]
    }
   ],
   "source": [
    "vectorizer = TfidfVectorizer()\n",
    "X = vectorizer.fit_transform(df['Message'])\n",
    "\n",
    "print(\"Number of Features (Columns):\", X.shape[1])\n",
    "print(\"Number of Samples (Rows):\", X.shape[0])\n"
   ]
  },
  {
   "cell_type": "code",
   "execution_count": null,
   "id": "56b19ce6",
   "metadata": {},
   "outputs": [],
   "source": []
  },
  {
   "cell_type": "code",
   "execution_count": null,
   "id": "b386e184-1cc5-4ef2-9e96-e89b20033e01",
   "metadata": {},
   "outputs": [],
   "source": []
  }
 ],
 "metadata": {
  "kernelspec": {
   "display_name": "Python 3 (ipykernel)",
   "language": "python",
   "name": "python3"
  },
  "language_info": {
   "codemirror_mode": {
    "name": "ipython",
    "version": 3
   },
   "file_extension": ".py",
   "mimetype": "text/x-python",
   "name": "python",
   "nbconvert_exporter": "python",
   "pygments_lexer": "ipython3",
   "version": "3.12.4"
  },
  "papermill": {
   "default_parameters": {},
   "duration": 941.919474,
   "end_time": "2021-09-07T23:40:04.526297",
   "environment_variables": {},
   "exception": null,
   "input_path": "__notebook__.ipynb",
   "output_path": "__notebook__.ipynb",
   "parameters": {},
   "start_time": "2021-09-07T23:24:22.606823",
   "version": "2.3.3"
  }
 },
 "nbformat": 4,
 "nbformat_minor": 5
}
